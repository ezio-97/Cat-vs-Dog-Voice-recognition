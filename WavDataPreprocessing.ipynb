{
 "cells": [
  {
   "cell_type": "code",
   "execution_count": 9,
   "id": "e7bea057",
   "metadata": {},
   "outputs": [],
   "source": [
    "import numpy as np  # linear algebra\n",
    "import pandas as pd  # CSV file\n",
    "import scipy.io.wavfile as sci_wav  # Open wav files\n",
    "import matplotlib.pyplot as plt\n",
    "import sounddevice as sd\n",
    "from scipy.io import wavfile\n",
    "import os\n",
    "import config\n",
    "import wav2Cep\n"
   ]
  },
  {
   "cell_type": "markdown",
   "id": "94abecf7",
   "metadata": {},
   "source": [
    "* Load The WAV files!!!!!!!!!"
   ]
  },
  {
   "cell_type": "code",
   "execution_count": 10,
   "id": "2c2e3c99",
   "metadata": {},
   "outputs": [
    {
     "name": "stdout",
     "output_type": "stream",
     "text": [
      "cats path: ['cat_1.wav', 'cat_10.wav', 'cat_100.wav', 'cat_101.wav', 'cat_102.wav', 'cat_103.wav', 'cat_105.wav', 'cat_106.wav', 'cat_107.wav', 'cat_108.wav', 'cat_109.wav', 'cat_11.wav', 'cat_110.wav', 'cat_112.wav', 'cat_113.wav', 'cat_114.wav', 'cat_115.wav', 'cat_116.wav', 'cat_117.wav', 'cat_118.wav', 'cat_119.wav', 'cat_12.wav', 'cat_120.wav', 'cat_121.wav', 'cat_122.wav', 'cat_123.wav', 'cat_124.wav', 'cat_125.wav', 'cat_126.wav', 'cat_127.wav', 'cat_128.wav', 'cat_129.wav', 'cat_13.wav', 'cat_130.wav', 'cat_131.wav', 'cat_132.wav', 'cat_133.wav', 'cat_134.wav', 'cat_135.wav', 'cat_136.wav', 'cat_137.wav', 'cat_138.wav', 'cat_139.wav', 'cat_14.wav', 'cat_140.wav', 'cat_141.wav', 'cat_142.wav', 'cat_143.wav', 'cat_144.wav', 'cat_146.wav', 'cat_147.wav', 'cat_148.wav', 'cat_149.wav', 'cat_15.wav', 'cat_150.wav', 'cat_151.wav', 'cat_152.wav', 'cat_153.wav', 'cat_154.wav', 'cat_155.wav', 'cat_156.wav', 'cat_157.wav', 'cat_158.wav', 'cat_159.wav', 'cat_16.wav', 'cat_160.wav', 'cat_161.wav', 'cat_162.wav', 'cat_163.wav', 'cat_164.wav', 'cat_165.wav', 'cat_166.wav', 'cat_167.wav', 'cat_17.wav', 'cat_18.wav', 'cat_19.wav', 'cat_2.wav', 'cat_20.wav', 'cat_21.wav', 'cat_22.wav', 'cat_23.wav', 'cat_24.wav', 'cat_25.wav', 'cat_26.wav', 'cat_27.wav', 'cat_28.wav', 'cat_29.wav', 'cat_3.wav', 'cat_30.wav', 'cat_31.wav', 'cat_32.wav', 'cat_33.wav', 'cat_34.wav', 'cat_35.wav', 'cat_36.wav', 'cat_37.wav', 'cat_38.wav', 'cat_39.wav', 'cat_4.wav', 'cat_40.wav', 'cat_41.wav', 'cat_42.wav', 'cat_43.wav', 'cat_44.wav', 'cat_45.wav', 'cat_46.wav', 'cat_47.wav', 'cat_48.wav', 'cat_49.wav', 'cat_5.wav', 'cat_50.wav', 'cat_51.wav', 'cat_52.wav', 'cat_53.wav', 'cat_54.wav', 'cat_55.wav', 'cat_56.wav', 'cat_57.wav', 'cat_58.wav', 'cat_59.wav', 'cat_6.wav', 'cat_60.wav', 'cat_61.wav', 'cat_62.wav', 'cat_63.wav', 'cat_64.wav', 'cat_65.wav', 'cat_66.wav', 'cat_67.wav', 'cat_68.wav', 'cat_69.wav', 'cat_7.wav', 'cat_70.wav', 'cat_71.wav', 'cat_72.wav', 'cat_73.wav', 'cat_74.wav', 'cat_75.wav', 'cat_76.wav', 'cat_77.wav', 'cat_78.wav', 'cat_79.wav', 'cat_8.wav', 'cat_80.wav', 'cat_81.wav', 'cat_82.wav', 'cat_83.wav', 'cat_84.wav', 'cat_85.wav', 'cat_86.wav', 'cat_87.wav', 'cat_88.wav', 'cat_89.wav', 'cat_9.wav', 'cat_90.wav', 'cat_91.wav', 'cat_92.wav', 'cat_93.wav', 'cat_94.wav', 'cat_95.wav', 'cat_96.wav', 'cat_97.wav', 'cat_98.wav', 'cat_99.wav']\n",
      "dogs path: ['dog_barking_0.wav', 'dog_barking_1.wav', 'dog_barking_10.wav', 'dog_barking_100.wav', 'dog_barking_101.wav', 'dog_barking_102.wav', 'dog_barking_103.wav', 'dog_barking_104.wav', 'dog_barking_105.wav', 'dog_barking_106.wav', 'dog_barking_107.wav', 'dog_barking_108.wav', 'dog_barking_109.wav', 'dog_barking_11.wav', 'dog_barking_110.wav', 'dog_barking_111.wav', 'dog_barking_112.wav', 'dog_barking_12.wav', 'dog_barking_13.wav', 'dog_barking_14.wav', 'dog_barking_15.wav', 'dog_barking_16.wav', 'dog_barking_17.wav', 'dog_barking_18.wav', 'dog_barking_19.wav', 'dog_barking_2.wav', 'dog_barking_20.wav', 'dog_barking_21.wav', 'dog_barking_22.wav', 'dog_barking_23.wav', 'dog_barking_24.wav', 'dog_barking_25.wav', 'dog_barking_26.wav', 'dog_barking_27.wav', 'dog_barking_28.wav', 'dog_barking_29.wav', 'dog_barking_3.wav', 'dog_barking_30.wav', 'dog_barking_31.wav', 'dog_barking_32.wav', 'dog_barking_33.wav', 'dog_barking_34.wav', 'dog_barking_35.wav', 'dog_barking_36.wav', 'dog_barking_37.wav', 'dog_barking_38.wav', 'dog_barking_39.wav', 'dog_barking_4.wav', 'dog_barking_40.wav', 'dog_barking_41.wav', 'dog_barking_42.wav', 'dog_barking_43.wav', 'dog_barking_44.wav', 'dog_barking_45.wav', 'dog_barking_46.wav', 'dog_barking_47.wav', 'dog_barking_48.wav', 'dog_barking_49.wav', 'dog_barking_5.wav', 'dog_barking_50.wav', 'dog_barking_51.wav', 'dog_barking_52.wav', 'dog_barking_53.wav', 'dog_barking_54.wav', 'dog_barking_55.wav', 'dog_barking_56.wav', 'dog_barking_57.wav', 'dog_barking_58.wav', 'dog_barking_59.wav', 'dog_barking_6.wav', 'dog_barking_60.wav', 'dog_barking_61.wav', 'dog_barking_62.wav', 'dog_barking_63.wav', 'dog_barking_64.wav', 'dog_barking_65.wav', 'dog_barking_66.wav', 'dog_barking_67.wav', 'dog_barking_68.wav', 'dog_barking_69.wav', 'dog_barking_7.wav', 'dog_barking_70.wav', 'dog_barking_71.wav', 'dog_barking_72.wav', 'dog_barking_73.wav', 'dog_barking_74.wav', 'dog_barking_75.wav', 'dog_barking_76.wav', 'dog_barking_77.wav', 'dog_barking_78.wav', 'dog_barking_79.wav', 'dog_barking_8.wav', 'dog_barking_80.wav', 'dog_barking_81.wav', 'dog_barking_82.wav', 'dog_barking_83.wav', 'dog_barking_84.wav', 'dog_barking_85.wav', 'dog_barking_86.wav', 'dog_barking_87.wav', 'dog_barking_88.wav', 'dog_barking_89.wav', 'dog_barking_9.wav', 'dog_barking_90.wav', 'dog_barking_91.wav', 'dog_barking_92.wav', 'dog_barking_93.wav', 'dog_barking_94.wav', 'dog_barking_95.wav', 'dog_barking_96.wav', 'dog_barking_97.wav', 'dog_barking_98.wav', 'dog_barking_99.wav']\n"
     ]
    }
   ],
   "source": [
    "#Change it to your root directory where you downloaded the dataset\n",
    "#protip: (make a config.py file and add the path in your machine to it. Name the variable as ROOT_DIR )\n",
    "\n",
    "ROOT_DIR = config.ROOT_DIR \n",
    "\n",
    "# List all files and folders in the directory\n",
    "all_entries = os.listdir(ROOT_DIR)\n",
    "\n",
    "# If you want to list only files (excluding directories)\n",
    "files = [f for f in all_entries if os.path.isfile(os.path.join(ROOT_DIR, f))]\n",
    "\n",
    "# Print the result\n",
    "# print(\"All entries:\", all_entries)\n",
    "# print(\"Files only:\", files)\n",
    "\n",
    "cats = [f for f in files if f.startswith('cat')]\n",
    "dogs = [f for f in files if f.startswith('dog')]\n",
    "\n",
    "print(f\"cats path: {cats}\")\n",
    "print(f\"dogs path: {dogs}\")"
   ]
  },
  {
   "cell_type": "code",
   "execution_count": 11,
   "id": "2f6cf31a",
   "metadata": {},
   "outputs": [
    {
     "name": "stdout",
     "output_type": "stream",
     "text": [
      "len(cats)=164 files\n",
      "len(dogs)=113 files\n"
     ]
    }
   ],
   "source": [
    "print(f\"{len(cats)=} files\")\n",
    "print(f\"{len(dogs)=} files\")"
   ]
  },
  {
   "cell_type": "markdown",
   "id": "50be3195",
   "metadata": {},
   "source": [
    "* Check the total length of samples."
   ]
  },
  {
   "cell_type": "code",
   "execution_count": 12,
   "id": "a79997e3",
   "metadata": {},
   "outputs": [
    {
     "name": "stdout",
     "output_type": "stream",
     "text": [
      "Duration of cats : 1323.90 seconds, min duration: 0.92 and avg duration : 8.07 seconds\n",
      "Duration of dogs : 598.44 seconds, min duration: 1.02 and avg duration : 5.30 seconds\n",
      "Unique sample rates = ({16000}, {16000})\n"
     ]
    }
   ],
   "source": [
    "def Length_of_wavs(wavs: list, root: str) -> tuple:\n",
    "    \"\"\"\n",
    "    Check if the durations of cats and dogs audio\n",
    "    are comparable to avoid an unbalanced dataset.\n",
    "    \n",
    "    Also checks the sample rate of each file to ensure there are no outliers.\n",
    "    \n",
    "    Now includes minimum duration across all files.\n",
    "    \"\"\"\n",
    "    duration = 0\n",
    "    rates = []\n",
    "    min_duration = float('inf')\n",
    "\n",
    "    for i in wavs:\n",
    "        rate, data = wavfile.read(root + i)\n",
    "        file_duration = len(data) / float(rate)\n",
    "        rates.append(rate)\n",
    "        duration += file_duration\n",
    "        if file_duration < min_duration:\n",
    "            min_duration = file_duration\n",
    "\n",
    "    avg_duration = duration / len(wavs)\n",
    "    \n",
    "    return (duration, set(rates), avg_duration, min_duration)\n",
    "             #The set() function is used to check if the values in the list are unique\n",
    "\n",
    "duration_cats, Sampleratescats, avgDurationCat, min_durationCat = Length_of_wavs(cats,ROOT_DIR)\n",
    "duration_dogs, Sampleratesdogs, avgDurationDog, min_durationDog = Length_of_wavs(dogs,ROOT_DIR)\n",
    "print(f\"Duration of cats : {duration_cats:.2f} seconds, min duration: {min_durationCat:.2f} and avg duration : {avgDurationCat:.2f} seconds\")\n",
    "print(f\"Duration of dogs : {duration_dogs:.2f} seconds, min duration: {min_durationDog:.2f} and avg duration : {avgDurationDog:.2f} seconds\")\n",
    "print(f\"Unique sample rates = {Sampleratescats, Sampleratesdogs}\")\n",
    "\n"
   ]
  },
  {
   "cell_type": "markdown",
   "id": "94b59447",
   "metadata": {},
   "source": [
    "* Lets try to get speech only parts from the audios (Have to figure this out)"
   ]
  },
  {
   "cell_type": "code",
   "execution_count": null,
   "id": "06f5bf23",
   "metadata": {},
   "outputs": [],
   "source": [
    "# from vad import EnergyVAD              #I think this apprach is based on energy density in the signal to detect the speech intervals\n",
    "# import soundfile as sf\n",
    "\n",
    "# test_audio = ROOT_DIR + 'cat_25.wav'    #A random exampple\n",
    "# saveas = config.SavePath  #path wwhere you wanna save the processed file\n",
    "\n",
    "# #play the example\n",
    "# Srate, audio = wavfile.read(test_audio)\n",
    "# sd.play(audio, Srate)\n",
    "# sd.wait()\n",
    "\n",
    "\n"
   ]
  },
  {
   "cell_type": "code",
   "execution_count": null,
   "id": "e8954584",
   "metadata": {},
   "outputs": [],
   "source": [
    "# #Try to eliminate long pauses\n",
    "\n",
    "# audio, sr = sf.read(test_audio)\n",
    "# if audio.ndim == 1:\n",
    "#     audio = np.expand_dims(audio, axis=0)  # Shape becomes (1, num_samples)\n",
    "# vad = EnergyVAD(sample_rate=sr)\n",
    "# speech_signal = vad.apply_vad(audio)\n",
    "\n",
    "# #Try to add pause\n",
    "\n",
    "# # Define silence duration in seconds\n",
    "# padding_duration = 1.0 \n",
    "# padding_samples = int(sr * padding_duration)\n",
    "\n",
    "# # Create silence\n",
    "# silence = np.zeros(padding_samples)\n",
    "\n",
    "# print(\"Speech signal shape:\", speech_signal.shape)\n",
    "# speech_signal = speech_signal.flatten()\n",
    "# speech_signal = speech_signal.astype('float32')\n",
    "# # Add silence to beginning and end\n",
    "# padded_signal = np.concatenate([silence, speech_signal, silence])\n",
    "\n",
    "# sf.write(saveas, padded_signal, sr)"
   ]
  },
  {
   "cell_type": "code",
   "execution_count": null,
   "id": "b750d65e",
   "metadata": {},
   "outputs": [],
   "source": [
    "# #TO DO (Looks like the pauses at the begining and end are eliminated.Would be nice to include that as well )\n",
    "\n",
    "# Srate, audio = wavfile.read(saveas)\n",
    "# print(Srate)\n",
    "# sd.play(audio, Srate)\n",
    "# sd.wait()\n"
   ]
  },
  {
   "cell_type": "markdown",
   "id": "f6a3a506",
   "metadata": {},
   "source": [
    "* ################################# Get the mel Coeficients ##################################################"
   ]
  },
  {
   "cell_type": "code",
   "execution_count": null,
   "id": "38caf649",
   "metadata": {},
   "outputs": [],
   "source": [
    "test_audio = ROOT_DIR + 'cat_25.wav' \n",
    "Test_Mfcc = wav2Cep.compute_mfcc(file=test_audio, frameSize=0.300, CepCoeficients=20)\n",
    "print((Test_Mfcc.shape))"
   ]
  },
  {
   "cell_type": "code",
   "execution_count": null,
   "id": "75397155",
   "metadata": {},
   "outputs": [],
   "source": [
    "Test_Mfcc = wav2Cep.compute_2D_mfcc(file=test_audio, frameSize=0.300, CepCoeficients=20, max_frames=30)\n",
    "print((Test_Mfcc.shape))"
   ]
  },
  {
   "cell_type": "markdown",
   "id": "0520174b",
   "metadata": {},
   "source": [
    "* ========== Compute MFCC for all audio files and save the \"n\" CC features with labels ======================="
   ]
  },
  {
   "cell_type": "code",
   "execution_count": null,
   "id": "970294c5",
   "metadata": {},
   "outputs": [],
   "source": [
    "def Label_and_Save_1D(Mfcc, label, savePath):\n",
    "\n",
    "    label_cat = 0  \n",
    "    label_dog = 1\n",
    "    num_frames = Mfcc.shape[0]\n",
    "\n",
    "    if label == 'cat':\n",
    "        labels = np.full((num_frames, 1), label_cat)\n",
    "        features_with_labels = np.hstack((Mfcc, labels))\n",
    "    \n",
    "    elif label == \"dog\":\n",
    "        labels = np.full((num_frames, 1), label_dog)\n",
    "        features_with_labels = np.hstack((Mfcc, labels))\n",
    "\n",
    "\n",
    "    # csv_test = config.Features\n",
    "    df = pd.DataFrame(features_with_labels)\n",
    "    #df.to_csv(Root + \"mfcc_features.csv\", index=False, header=False)\n",
    "    df.to_csv(savePath, mode='a', header=False, index=False)\n",
    "\n"
   ]
  },
  {
   "cell_type": "code",
   "execution_count": null,
   "id": "c91c565d",
   "metadata": {},
   "outputs": [],
   "source": [
    "#Compute MFCC and append to csv\n",
    "\n",
    "label_dog = 'dog'\n",
    "label_cat = 'cat'\n",
    "Root = config.Features\n",
    "frameSize = 0.300\n",
    "CepCoeficients = 20\n",
    "numRandomSamples = 5\n",
    "savePath = Root + f'Rdata_fs{int(frameSize*1000)}_cc{CepCoeficients}.csv'\n",
    "\n",
    "if os.path.exists(savePath):\n",
    "    print(\"The Csv file already exists\")\n",
    "\n",
    "else:\n",
    "    \n",
    "    for i in range(numRandomSamples):\n",
    "        for dog in dogs:\n",
    "            audio = ROOT_DIR + dog \n",
    "            MFCC = wav2Cep.compute_mfcc(audio, frameSize = frameSize, CepCoeficients = CepCoeficients,random_segment_duration=5)\n",
    "            Label_and_Save_1D(Mfcc= MFCC, label=label_dog, savePath=savePath)\n",
    "\n",
    "        for cat in cats:\n",
    "            audio = ROOT_DIR + cat \n",
    "            MFCC = wav2Cep.compute_mfcc(audio, frameSize = frameSize, CepCoeficients = CepCoeficients, random_segment_duration=8)\n",
    "            Label_and_Save_1D(Mfcc= MFCC, label=label_cat, savePath=savePath)\n",
    "\n",
    "    \n",
    "    \n",
    "    "
   ]
  },
  {
   "cell_type": "markdown",
   "id": "940bec2f",
   "metadata": {},
   "source": [
    "* Try to stack the MFCCs as 2D array(.npy format) for a CNN network"
   ]
  },
  {
   "cell_type": "code",
   "execution_count": 13,
   "id": "d0bbd9a9",
   "metadata": {},
   "outputs": [],
   "source": [
    "\n",
    "def add_sample(Mfcc, label, features_list, labels_list):\n",
    "    label_map = {'cat': 0, 'dog': 1}\n",
    "    \n",
    "    if label not in label_map:\n",
    "        raise ValueError(f\"Unknown label: {label}\")\n",
    "    \n",
    "    label_value = label_map[label]\n",
    "    \n",
    "    # Append to your dataset\n",
    "    features_list.append(Mfcc)\n",
    "    labels_list.append(label_value)\n",
    "\n"
   ]
  },
  {
   "cell_type": "code",
   "execution_count": 16,
   "id": "3b512309",
   "metadata": {},
   "outputs": [],
   "source": [
    "label_dog = 'dog'\n",
    "label_cat = 'cat'\n",
    "Root = config.Features\n",
    "frameSize = 0.300\n",
    "CepCoeficients = 20\n",
    "numRandomSamples = 5\n",
    "MAXFrames = 50\n",
    "savePath = Root + f'2Ddata_fs{int(frameSize*1000)}_cc{CepCoeficients}_f{MAXFrames}/'\n",
    "\n",
    "if os.path.exists(savePath):\n",
    "    print(\"The file or folder already exists\")\n",
    "\n",
    "else:\n",
    "    os.makedirs(savePath, exist_ok=True)\n",
    "    features_dataset = []\n",
    "    labels_dataset = []\n",
    "    for i in range(numRandomSamples):\n",
    "        for dog in dogs:\n",
    "            audio = ROOT_DIR + dog \n",
    "            MFCC = wav2Cep.compute_2D_mfcc(audio, frameSize = frameSize, CepCoeficients = CepCoeficients,\n",
    "                                           random_segment_duration=5, max_frames=MAXFrames)\n",
    "            add_sample(MFCC, label_dog, features_dataset, labels_dataset)\n",
    "            \n",
    "\n",
    "        for cat in cats:\n",
    "            audio = ROOT_DIR + cat \n",
    "            MFCC = wav2Cep.compute_2D_mfcc(audio, frameSize = frameSize, CepCoeficients = CepCoeficients, \n",
    "                                           random_segment_duration=8, max_frames=MAXFrames)\n",
    "            add_sample(MFCC, label_cat, features_dataset, labels_dataset)\n",
    "\n",
    "    np.save(savePath + 'features.npy', np.array(features_dataset))\n",
    "    np.save(savePath + 'labels.npy', np.array(labels_dataset))\n",
    "\n",
    "\n"
   ]
  }
 ],
 "metadata": {
  "kernelspec": {
   "display_name": "lab-env",
   "language": "python",
   "name": "python3"
  },
  "language_info": {
   "codemirror_mode": {
    "name": "ipython",
    "version": 3
   },
   "file_extension": ".py",
   "mimetype": "text/x-python",
   "name": "python",
   "nbconvert_exporter": "python",
   "pygments_lexer": "ipython3",
   "version": "3.10.2"
  }
 },
 "nbformat": 4,
 "nbformat_minor": 5
}
