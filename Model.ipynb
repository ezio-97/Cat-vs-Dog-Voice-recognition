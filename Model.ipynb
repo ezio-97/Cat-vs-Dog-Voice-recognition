{
 "cells": [
  {
   "cell_type": "markdown",
   "id": "7706f629",
   "metadata": {},
   "source": [
    "* Compile, Train and Save the models here"
   ]
  },
  {
   "cell_type": "markdown",
   "id": "01926d77",
   "metadata": {},
   "source": [
    "* 1. Preprocessing"
   ]
  },
  {
   "cell_type": "code",
   "execution_count": 3,
   "id": "e2d6e8eb",
   "metadata": {},
   "outputs": [],
   "source": [
    "import numpy as np  # linear algebra\n",
    "import pandas as pd  # CSV file\n",
    "import config"
   ]
  },
  {
   "cell_type": "code",
   "execution_count": 4,
   "id": "a609b9a1",
   "metadata": {},
   "outputs": [
    {
     "name": "stdout",
     "output_type": "stream",
     "text": [
      "192133\n"
     ]
    }
   ],
   "source": [
    "data_path = config.Features + 'data.csv'\n",
    "data = pd.read_csv(data_path)\n",
    "\n",
    "print(len(data))"
   ]
  },
  {
   "cell_type": "code",
   "execution_count": null,
   "id": "cad9796f",
   "metadata": {},
   "outputs": [],
   "source": []
  }
 ],
 "metadata": {
  "kernelspec": {
   "display_name": "lab-env",
   "language": "python",
   "name": "python3"
  },
  "language_info": {
   "codemirror_mode": {
    "name": "ipython",
    "version": 3
   },
   "file_extension": ".py",
   "mimetype": "text/x-python",
   "name": "python",
   "nbconvert_exporter": "python",
   "pygments_lexer": "ipython3",
   "version": "3.10.2"
  }
 },
 "nbformat": 4,
 "nbformat_minor": 5
}
